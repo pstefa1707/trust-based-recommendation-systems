{
 "cells": [
  {
   "cell_type": "code",
   "execution_count": 6,
   "metadata": {},
   "outputs": [],
   "source": [
    "# Imports\n",
    "import math\n",
    "import numpy as np\n",
    "from collections import deque\n",
    "from copy import deepcopy\n",
    "import random\n",
    "from tqdm.notebook import tqdm\n",
    "import sys\n",
    "import scipy.stats as stats\n",
    "import matplotlib.pyplot as plt\n",
    "import os\n",
    "import networkx as nx\n",
    "from surprise.model_selection import cross_validate\n",
    "from surprise import BaselineOnly, Dataset, Reader, AlgoBase\n",
    "from networkx import node_classification\n",
    "from RandomWalkMC import random_walk_mc\n",
    "import networkx as nx\n",
    "from scipy.sparse import *\n",
    "from utils import *\n",
    "from common import *\n",
    "import json\n",
    " \n",
    "sys.setrecursionlimit(10**6)"
   ]
  },
  {
   "cell_type": "code",
   "execution_count": 3,
   "metadata": {},
   "outputs": [],
   "source": [
    "# Returns the set of common users who have rated both movie i and j\n",
    "def UC(i, j):\n",
    "    return RATED_BY[i].intersection(RATED_BY[j])\n",
    "\n",
    "# Returns the mean average rating given by a user\n",
    "def r_(u):\n",
    "    return sum(list(RATINGS[u].values())) / len(RATINGS[u])\n",
    "\n",
    "# Returns the Pearson correlation of items i and j\n",
    "def corr(i, j):\n",
    "    uc = UC(i, j)\n",
    "    \n",
    "    def _numerator_term(u, i, j):\n",
    "        mean = r_(u)\n",
    "        return (RATINGS[u][i] - mean) * (RATINGS[u][j] - mean)\n",
    "    \n",
    "    def _denominator_term(u, i):\n",
    "        return pow(RATINGS[u][i] - r_(u), 2)\n",
    "    \n",
    "    numerator = sum((_numerator_term(u, i, j) for u in uc))\n",
    "    denominator_1 = math.sqrt(sum((_denominator_term(u, i) for u in uc)))\n",
    "    denominator_2 = math.sqrt(sum((_denominator_term(u, i) for u in RATED_BY[i])))\n",
    "    \n",
    "    return numerator / (denominator_1 * denominator_2 + 1e-4) # Add a small delta to avoid division by zero\n",
    "def sim(i, j):\n",
    "    uc = UC(i, j)\n",
    "    s = (1/(1 + pow(math.e, -len(uc)/2))) * corr(i,j)\n",
    "    return s"
   ]
  },
  {
   "cell_type": "code",
   "execution_count": 8,
   "metadata": {},
   "outputs": [],
   "source": [
    "top_k = ORDERED_ITEMS[:100]\n",
    "sims = {i: {} for i in top_k}\n",
    "for i in top_k:\n",
    "    for j in top_k:\n",
    "        sims[i][j] = sim(i, j)\n",
    "        \n",
    "with open('top_k_sims.json', 'w+') as outfile:\n",
    "    json.dump(sims, outfile)"
   ]
  },
  {
   "cell_type": "code",
   "execution_count": 44,
   "metadata": {},
   "outputs": [
    {
     "data": {
      "application/vnd.jupyter.widget-view+json": {
       "model_id": "f533991084364e75b24f97ecd7c3c490",
       "version_major": 2,
       "version_minor": 0
      },
      "text/plain": [
       "  0%|          | 0/2026 [00:00<?, ?it/s]"
      ]
     },
     "metadata": {},
     "output_type": "display_data"
    }
   ],
   "source": [
    "matrix = dok_matrix((len(TRUST_GRAPH), len(TRUST_GRAPH)), dtype=np.float32)\n",
    "\n",
    "item_sims = np.load('item_sims.npy')\n",
    "keys = RATED_BY[363]\n",
    "\n",
    "for k in tqdm(keys):\n",
    "    for o_k in keys:\n",
    "        intersection_items = set(RATINGS[k].keys()).intersection(set(RATINGS[o_k].keys()))\n",
    "        s = 0\n",
    "        for i in intersection_items:\n",
    "            s += item_sims[i-1] * abs(RATINGS[k][i] - RATINGS[o_k][i])\n",
    "        matrix[k-1, o_k-1] = s/len(intersection_items)"
   ]
  },
  {
   "cell_type": "code",
   "execution_count": 45,
   "metadata": {},
   "outputs": [],
   "source": [
    "matrix = matrix.tocoo()\n",
    "save_npz('item_sim_matrix.npz', matrix)"
   ]
  },
  {
   "cell_type": "code",
   "execution_count": 6,
   "metadata": {},
   "outputs": [
    {
     "data": {
      "text/plain": [
       "-0.195551"
      ]
     },
     "execution_count": 6,
     "metadata": {},
     "output_type": "execute_result"
    }
   ],
   "source": [
    "ITEM_DIFFS_SIM.min()"
   ]
  },
  {
   "cell_type": "code",
   "execution_count": 20,
   "metadata": {},
   "outputs": [
    {
     "data": {
      "text/plain": [
       "(127, 73)"
      ]
     },
     "execution_count": 20,
     "metadata": {},
     "output_type": "execute_result"
    }
   ],
   "source": [
    "np.unravel_index(ITEM_DIFFS_SIM.argmax(), (ITEM_DIFFS_SIM.shape))"
   ]
  },
  {
   "cell_type": "code",
   "execution_count": 31,
   "metadata": {},
   "outputs": [
    {
     "data": {
      "text/plain": [
       "-0.00373705911189186"
      ]
     },
     "execution_count": 31,
     "metadata": {},
     "output_type": "execute_result"
    }
   ],
   "source": [
    "sim(363, 6178)"
   ]
  },
  {
   "cell_type": "code",
   "execution_count": 39,
   "metadata": {},
   "outputs": [
    {
     "data": {
      "text/plain": [
       "4.0"
      ]
     },
     "execution_count": 39,
     "metadata": {},
     "output_type": "execute_result"
    }
   ],
   "source": [
    "ITEM_DIFFS_SIM[127, 73]"
   ]
  },
  {
   "cell_type": "code",
   "execution_count": 36,
   "metadata": {},
   "outputs": [
    {
     "data": {
      "text/plain": [
       "{363}"
      ]
     },
     "execution_count": 36,
     "metadata": {},
     "output_type": "execute_result"
    }
   ],
   "source": [
    "set(RATINGS[74].keys()).intersection(set(RATINGS[128].keys()))"
   ]
  },
  {
   "cell_type": "code",
   "execution_count": 37,
   "metadata": {},
   "outputs": [
    {
     "data": {
      "text/plain": [
       "5"
      ]
     },
     "execution_count": 37,
     "metadata": {},
     "output_type": "execute_result"
    }
   ],
   "source": [
    "RATINGS[74][363]"
   ]
  },
  {
   "cell_type": "code",
   "execution_count": 38,
   "metadata": {},
   "outputs": [
    {
     "data": {
      "text/plain": [
       "1"
      ]
     },
     "execution_count": 38,
     "metadata": {},
     "output_type": "execute_result"
    }
   ],
   "source": [
    "RATINGS[128][363]"
   ]
  },
  {
   "cell_type": "code",
   "execution_count": 10,
   "metadata": {},
   "outputs": [
    {
     "data": {
      "text/plain": [
       "(array([6.660000e+02, 1.887000e+04, 1.054440e+05, 3.487600e+04,\n",
       "        3.194200e+04, 4.044400e+04, 6.599800e+04, 4.630400e+04,\n",
       "        1.828720e+05, 3.161200e+04, 4.586000e+04, 2.017200e+04,\n",
       "        5.854000e+03, 2.244200e+04, 1.151796e+06, 1.797000e+04,\n",
       "        8.516000e+03, 3.206000e+03, 8.138000e+03, 1.471000e+04,\n",
       "        7.117000e+04, 7.530000e+03, 4.522000e+03, 9.880000e+02,\n",
       "        2.120000e+02, 5.268000e+03, 7.221320e+05, 3.124000e+03,\n",
       "        2.052000e+03, 3.340000e+02, 0.000000e+00, 2.240000e+02,\n",
       "        1.200000e+01, 4.200000e+01, 0.000000e+00, 0.000000e+00,\n",
       "        0.000000e+00, 0.000000e+00, 4.839700e+05, 0.000000e+00,\n",
       "        0.000000e+00, 0.000000e+00, 0.000000e+00, 0.000000e+00,\n",
       "        0.000000e+00, 0.000000e+00, 0.000000e+00, 0.000000e+00,\n",
       "        0.000000e+00, 2.047700e+05]),\n",
       " array([-0.19555099, -0.11163998, -0.02772895,  0.05618207,  0.14009309,\n",
       "         0.2240041 ,  0.30791512,  0.39182615,  0.47573715,  0.55964816,\n",
       "         0.64355922,  0.72747022,  0.81138122,  0.89529228,  0.97920328,\n",
       "         1.06311429,  1.14702535,  1.23093629,  1.31484735,  1.39875841,\n",
       "         1.48266935,  1.56658041,  1.65049148,  1.73440242,  1.81831348,\n",
       "         1.90222454,  1.98613548,  2.07004642,  2.15395761,  2.23786855,\n",
       "         2.32177949,  2.40569067,  2.48960161,  2.57351255,  2.65742373,\n",
       "         2.74133468,  2.82524562,  2.9091568 ,  2.99306774,  3.07697868,\n",
       "         3.16088986,  3.24480081,  3.32871175,  3.41262293,  3.49653387,\n",
       "         3.58044481,  3.66435599,  3.74826694,  3.83217788,  3.91608906,\n",
       "         4.        ]),\n",
       " <BarContainer object of 50 artists>)"
      ]
     },
     "execution_count": 10,
     "metadata": {},
     "output_type": "execute_result"
    },
    {
     "data": {
      "image/png": "[encoded data removed]",
      "text/plain": [
       "<Figure size 640x480 with 1 Axes>"
      ]
     },
     "metadata": {},
     "output_type": "display_data"
    }
   ],
   "source": [
    "values = ITEM_DIFFS_SIM.data\n",
    "plt.hist(values, bins=50)"
   ]
  },
  {
   "cell_type": "code",
   "execution_count": 12,
   "metadata": {},
   "outputs": [],
   "source": [
    "item_sims = np.load('item_sims.npy')"
   ]
  },
  {
   "cell_type": "code",
   "execution_count": 18,
   "metadata": {},
   "outputs": [
    {
     "data": {
      "text/plain": [
       "(array([3.00000e+00, 3.00000e+00, 6.00000e+00, 6.00000e+00, 1.00000e+01,\n",
       "        1.20000e+01, 2.10000e+01, 2.90000e+01, 2.00000e+01, 4.30000e+01,\n",
       "        6.40000e+01, 8.20000e+01, 1.32000e+02, 1.83000e+02, 2.57000e+02,\n",
       "        2.89000e+02, 4.30000e+02, 6.81000e+02, 9.96000e+02, 1.85700e+03,\n",
       "        3.13200e+03, 4.36700e+03, 4.27000e+03, 2.11200e+03, 1.06889e+05,\n",
       "        3.31400e+03, 1.99700e+03, 1.10900e+03, 1.46200e+03, 1.16400e+03,\n",
       "        8.91000e+02, 5.57000e+02, 6.86000e+02, 4.46000e+02, 3.73000e+02,\n",
       "        3.82000e+02, 4.19000e+02, 2.43000e+02, 1.29000e+02, 9.70000e+01,\n",
       "        8.10000e+01, 6.90000e+01, 4.40000e+01, 4.00000e+01, 3.70000e+01,\n",
       "        2.90000e+01, 2.20000e+01, 2.10000e+01, 1.80000e+01, 2.00000e+01]),\n",
       " array([-4.98530095e-02, -4.78560901e-02, -4.58591708e-02, -4.38622514e-02,\n",
       "        -4.18653321e-02, -3.98684127e-02, -3.78714934e-02, -3.58745741e-02,\n",
       "        -3.38776547e-02, -3.18807354e-02, -2.98838160e-02, -2.78868967e-02,\n",
       "        -2.58899773e-02, -2.38930580e-02, -2.18961386e-02, -1.98992193e-02,\n",
       "        -1.79022999e-02, -1.59053806e-02, -1.39084612e-02, -1.19115419e-02,\n",
       "        -9.91462256e-03, -7.91770321e-03, -5.92078387e-03, -3.92386452e-03,\n",
       "        -1.92694517e-03,  6.99741711e-05,  2.06689352e-03,  4.06381286e-03,\n",
       "         6.06073221e-03,  8.05765155e-03,  1.00545709e-02,  1.20514902e-02,\n",
       "         1.40484096e-02,  1.60453289e-02,  1.80422483e-02,  2.00391676e-02,\n",
       "         2.20360870e-02,  2.40330063e-02,  2.60299257e-02,  2.80268450e-02,\n",
       "         3.00237644e-02,  3.20206837e-02,  3.40176030e-02,  3.60145224e-02,\n",
       "         3.80114417e-02,  4.00083611e-02,  4.20052804e-02,  4.40021998e-02,\n",
       "         4.59991191e-02,  4.79960385e-02,  4.99929578e-02]),\n",
       " <BarContainer object of 50 artists>)"
      ]
     },
     "execution_count": 18,
     "metadata": {},
     "output_type": "execute_result"
    },
    {
     "data": {
      "image/png": "[encoded data removed]",
      "text/plain": [
       "<Figure size 640x480 with 1 Axes>"
      ]
     },
     "metadata": {},
     "output_type": "display_data"
    }
   ],
   "source": [
    "plt.hist(item_sims[(item_sims < 0.05) & (item_sims > -0.05)], bins=50)"
   ]
  },
  {
   "cell_type": "code",
   "execution_count": null,
   "metadata": {},
   "outputs": [],
   "source": []
  }
 ],
 "metadata": {
  "kernelspec": {
   "display_name": "Python 3",
   "language": "python",
   "name": "python3"
  },
  "language_info": {
   "codemirror_mode": {
    "name": "ipython",
    "version": 3
   },
   "file_extension": ".py",
   "mimetype": "text/x-python",
   "name": "python",
   "nbconvert_exporter": "python",
   "pygments_lexer": "ipython3",
   "version": "3.11.4"
  },
  "orig_nbformat": 4
 },
 "nbformat": 4,
 "nbformat_minor": 2
}
