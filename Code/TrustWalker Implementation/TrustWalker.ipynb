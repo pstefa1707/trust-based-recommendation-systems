{
 "cells": [
  {
   "cell_type": "code",
   "execution_count": 108,
   "metadata": {},
   "outputs": [],
   "source": [
    "# Imports\n",
    "import math\n",
    "import numpy as np"
   ]
  },
  {
   "cell_type": "code",
   "execution_count": 145,
   "metadata": {},
   "outputs": [],
   "source": [
    "# Speeds up 15x\n",
    "DP_sim = {}"
   ]
  },
  {
   "cell_type": "code",
   "execution_count": 146,
   "metadata": {},
   "outputs": [],
   "source": [
    "# Load in epinions dataset\n",
    "trust_graph = {} # Source user -> List of trusted users\n",
    "ratings = {} # Source user -> {movie : rating} map\n",
    "rated_by = {} # Movie -> Set of users who have rated it\n",
    "\n",
    "# Form trust graph\n",
    "with open('../datasets/epinions/trust_data.txt') as in_file:\n",
    "    for l in in_file.readlines():\n",
    "        f, t, _ = [int(v) for v in l.split()]\n",
    "        if f not in trust_graph:\n",
    "            trust_graph[f] = [t]\n",
    "        else:\n",
    "            trust_graph[f].append(t)\n",
    "\n",
    "# Map users to their ratings\n",
    "with open('../datasets/epinions/ratings_data.txt') as in_file:\n",
    "    for l in in_file.readlines():\n",
    "        s, m, r = [int(v) for v in l.split()]\n",
    "        # Fulfil ratings graph\n",
    "        if s not in ratings:\n",
    "            ratings[s] = {m : r}\n",
    "        else:\n",
    "            ratings[s][m] = r\n",
    "        \n",
    "        # Fulfil rated_by graph\n",
    "        if m not in rated_by:\n",
    "            rated_by[m] = set([s])\n",
    "        else:\n",
    "            rated_by[m].add(s)"
   ]
  },
  {
   "cell_type": "code",
   "execution_count": 147,
   "metadata": {},
   "outputs": [],
   "source": [
    "# Returns the set of common users who have rated both movie i and j\n",
    "def UC(i, j):\n",
    "    return rated_by[i].intersection(rated_by[j])"
   ]
  },
  {
   "cell_type": "code",
   "execution_count": 148,
   "metadata": {},
   "outputs": [],
   "source": [
    "# Returns the mean average rating given by a user\n",
    "def r_(u):\n",
    "    return sum(ratings[u]) / len(ratings[u])"
   ]
  },
  {
   "cell_type": "code",
   "execution_count": 149,
   "metadata": {},
   "outputs": [],
   "source": [
    "# Returns the Pearson correlation of items i and j\n",
    "def corr(i, j):\n",
    "    uc = UC(i, j)\n",
    "    \n",
    "    def _numerator_term(u, i, j):\n",
    "        mean = r_(u)\n",
    "        return (ratings[u][i] - mean) * (ratings[u][j] - mean)\n",
    "    \n",
    "    def _denominator_term(u, i):\n",
    "        return pow(ratings[u][i] - r_(u), 2)\n",
    "    \n",
    "    numerator = sum((_numerator_term(u, i, j) for u in uc))\n",
    "    denominator_1 = math.sqrt(sum((_denominator_term(u, i) for u in uc)))\n",
    "    denominator_2 = math.sqrt(sum((_denominator_term(u, i) for u in rated_by[i])))\n",
    "    \n",
    "    return numerator / (denominator_1 * denominator_2 + 1e-4) # Add a small delta to avoid division by zero"
   ]
  },
  {
   "cell_type": "code",
   "execution_count": 150,
   "metadata": {},
   "outputs": [],
   "source": [
    "def sim(i, j):\n",
    "    if (i,j) in DP_sim:\n",
    "        return DP_sim[(i, j)]\n",
    "    uc = UC(i, j)\n",
    "    s = (1/(1 + pow(math.e, -len(uc)/2))) * corr(i,j)\n",
    "    DP_sim[(i, j)] = s\n",
    "    return s"
   ]
  },
  {
   "cell_type": "code",
   "execution_count": 151,
   "metadata": {},
   "outputs": [],
   "source": [
    "def phi(current_user, item, k):\n",
    "    sigmoid_scalar = 1 / (1 + pow(math.e, -k/2))\n",
    "    m = -1\n",
    "    if current_user not in ratings:\n",
    "        return 1\n",
    "    for j in ratings[current_user]:\n",
    "        m = max(sim(item, j) * sigmoid_scalar, m)\n",
    "    return m"
   ]
  },
  {
   "cell_type": "code",
   "execution_count": 152,
   "metadata": {},
   "outputs": [],
   "source": [
    "import random\n",
    "def random_walk(user, item):\n",
    "    # Continue our random walk until broken\n",
    "    current_user = user\n",
    "    k = 0\n",
    "    MAX_DEPTH = 6\n",
    "    while True:\n",
    "        # If we go deeper than 6, cancel our walk\n",
    "        if k >= MAX_DEPTH:\n",
    "            return None\n",
    "        \n",
    "        # If the current user already has rated the item, return it\n",
    "        if current_user in ratings and item in ratings[current_user]:\n",
    "            return ratings[current_user][item]\n",
    "        \n",
    "        # With probability phi we cancel our random walk\n",
    "        p = phi(current_user, item, k)\n",
    "        if random.random() < p:\n",
    "            if current_user not in ratings:\n",
    "                return None\n",
    "            return random.choice(list(ratings[current_user].values()))\n",
    "        \n",
    "        # Otherwise continue our walk\n",
    "        if current_user in trust_graph:\n",
    "            current_user = random.choice(trust_graph[current_user])\n",
    "            k += 1\n",
    "        else:\n",
    "            return None"
   ]
  },
  {
   "cell_type": "code",
   "execution_count": 153,
   "metadata": {},
   "outputs": [
    {
     "name": "stdout",
     "output_type": "stream",
     "text": [
      "126 µs ± 38.9 µs per loop (mean ± std. dev. of 7 runs, 1000 loops each)\n"
     ]
    }
   ],
   "source": [
    "%%timeit\n",
    "random_walk(23083, 38760)"
   ]
  },
  {
   "cell_type": "code",
   "execution_count": 155,
   "metadata": {},
   "outputs": [],
   "source": [
    "def produce_recommendation(user, item):\n",
    "    random_walks = []\n",
    "    err = 0\n",
    "    sigma_sq_i = 1\n",
    "    e = 0.05\n",
    "    \n",
    "    def _calc_sig():\n",
    "        mean = sum(random_walks) / len(random_walks)\n",
    "        return sum([pow(r_i - mean, 2) for r_i in random_walks]) / len(random_walks)\n",
    "    \n",
    "    while True:\n",
    "        rw = random_walk(user, item)\n",
    "        if rw is None:\n",
    "            err += 1\n",
    "            if err >= 10000:\n",
    "                return -1\n",
    "            continue\n",
    "        random_walks.append(rw)\n",
    "        sigma_sq_i1 = _calc_sig()\n",
    "        \n",
    "        if abs(sigma_sq_i1 - sigma_sq_i) <= e:\n",
    "            return round(np.mean(random_walks))"
   ]
  },
  {
   "cell_type": "code",
   "execution_count": 156,
   "metadata": {},
   "outputs": [
    {
     "data": {
      "text/plain": [
       "4"
      ]
     },
     "execution_count": 156,
     "metadata": {},
     "output_type": "execute_result"
    }
   ],
   "source": [
    "produce_recommendation(23083, 38760)"
   ]
  }
 ],
 "metadata": {
  "kernelspec": {
   "display_name": "base",
   "language": "python",
   "name": "python3"
  },
  "language_info": {
   "codemirror_mode": {
    "name": "ipython",
    "version": 3
   },
   "file_extension": ".py",
   "mimetype": "text/x-python",
   "name": "python",
   "nbconvert_exporter": "python",
   "pygments_lexer": "ipython3",
   "version": "3.9.7"
  },
  "orig_nbformat": 4,
  "vscode": {
   "interpreter": {
    "hash": "94a931bf545b9d54245090cfedb42cc46d809f846700d8c9a99226585e8db04d"
   }
  }
 },
 "nbformat": 4,
 "nbformat_minor": 2
}
