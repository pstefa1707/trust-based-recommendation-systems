{
 "cells": [
  {
   "cell_type": "code",
   "execution_count": 2,
   "metadata": {},
   "outputs": [],
   "source": [
    "# Imports\n",
    "import math\n",
    "import numpy as np\n",
    "from collections import deque\n",
    "from copy import deepcopy\n",
    "import random\n",
    "from tqdm.notebook import tqdm\n",
    "import sys\n",
    "import scipy.stats as stats\n",
    "import matplotlib.pyplot as plt\n",
    "import os\n",
    "import networkx as nx\n",
    "from surprise.model_selection import cross_validate\n",
    "from surprise import BaselineOnly, Dataset, Reader, AlgoBase\n",
    "from networkx import node_classification\n",
    "from RandomWalkMC import random_walk_mc\n",
    "import networkx as nx\n",
    "from utils import *\n",
    " \n",
    "sys.setrecursionlimit(10**6)"
   ]
  },
  {
   "cell_type": "code",
   "execution_count": 11,
   "metadata": {},
   "outputs": [
    {
     "data": {
      "application/vnd.jupyter.widget-view+json": {
       "model_id": "f08b6c8fde494c1bacb28062bc9654d1",
       "version_major": 2,
       "version_minor": 0
      },
      "text/plain": [
       "  0%|          | 0/49289 [00:00<?, ?it/s]"
      ]
     },
     "metadata": {},
     "output_type": "display_data"
    }
   ],
   "source": [
    "item_diffs = np.zeros((len(TRUST_GRAPH), len(TRUST_GRAPH)), dtype='float16')\n",
    "item_jaccards = np.zeros((len(TRUST_GRAPH), len(TRUST_GRAPH)), dtype='float16')\n",
    "\n",
    "# Similarities score\n",
    "for n in tqdm(TRUST_GRAPH):\n",
    "    for o_n in TRUST_GRAPH:\n",
    "        rated_n = set(RATINGS[n].keys())\n",
    "        rated_o_n = set(RATINGS[o_n].keys())\n",
    "        rated_common = rated_n.intersection(rated_o_n)\n",
    "        union_size = len(rated_n.union(rated_o_n))\n",
    "        \n",
    "        if len(rated_common) == 0:\n",
    "            item_diffs[n- 1, o_n -1] = 0\n",
    "            item_jaccards[n - 1, o_n -1] = 0\n",
    "        else:\n",
    "            diff_sum = 0\n",
    "            for m in rated_common:\n",
    "                diff_sum += abs(RATINGS[n][m] - RATINGS[o_n][m])\n",
    "            avg_diff = diff_sum / len(rated_common) / 4  # Normalizing the average difference\n",
    "            jaccard_index = len(rated_common) / union_size\n",
    "            \n",
    "            item_diffs[n-1, o_n - 1] = np.float16(avg_diff)\n",
    "            item_jaccards[n-1, o_n -1] = np.float16(jaccard_index)"
   ]
  },
  {
   "cell_type": "code",
   "execution_count": 12,
   "metadata": {},
   "outputs": [],
   "source": [
    "item_diffs.tofile('itemdifs.bin')\n",
    "item_jaccards.tofile('itemjaccards.bin')"
   ]
  },
  {
   "cell_type": "code",
   "execution_count": null,
   "metadata": {},
   "outputs": [],
   "source": []
  }
 ],
 "metadata": {
  "kernelspec": {
   "display_name": "Python 3",
   "language": "python",
   "name": "python3"
  },
  "language_info": {
   "codemirror_mode": {
    "name": "ipython",
    "version": 3
   },
   "file_extension": ".py",
   "mimetype": "text/x-python",
   "name": "python",
   "nbconvert_exporter": "python",
   "pygments_lexer": "ipython3",
   "version": "3.11.2"
  },
  "orig_nbformat": 4
 },
 "nbformat": 4,
 "nbformat_minor": 2
}
